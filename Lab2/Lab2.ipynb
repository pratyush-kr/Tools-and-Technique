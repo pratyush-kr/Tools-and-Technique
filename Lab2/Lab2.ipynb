{
 "cells": [
  {
   "cell_type": "markdown",
   "metadata": {},
   "source": [
    "If"
   ]
  },
  {
   "cell_type": "code",
   "execution_count": 1,
   "metadata": {},
   "outputs": [
    {
     "name": "stdout",
     "output_type": "stream",
     "text": [
      "Legal voting age\n"
     ]
    }
   ],
   "source": [
    "age = int(input('age: '))\n",
    "if(age >= 18):\n",
    "    print(\"Legal voting age\")\n",
    "if(age < 18):\n",
    "    print(f'wait for {18-age} years more to vote')"
   ]
  },
  {
   "cell_type": "markdown",
   "metadata": {},
   "source": [
    "if else\n"
   ]
  },
  {
   "cell_type": "code",
   "execution_count": 2,
   "metadata": {},
   "outputs": [
    {
     "name": "stdout",
     "output_type": "stream",
     "text": [
      "Legal voting age\n"
     ]
    }
   ],
   "source": [
    "age = int(input('age: '))\n",
    "if(age >= 18):\n",
    "    print(\"Legal voting age\")\n",
    "else:\n",
    "    print(f'wait for {18-age} years more to vote')"
   ]
  },
  {
   "cell_type": "markdown",
   "metadata": {},
   "source": [
    "if elif else"
   ]
  },
  {
   "cell_type": "code",
   "execution_count": 3,
   "metadata": {},
   "outputs": [
    {
     "name": "stdout",
     "output_type": "stream",
     "text": [
      "Good to meet you Pratyush\n"
     ]
    }
   ],
   "source": [
    "command = input('Command: ')\n",
    "if(command == \"Hello\"):\n",
    "    print(\"Hello\")\n",
    "elif(command == \"Hi\"):\n",
    "    name = input('Name: ')\n",
    "    print(f\"Hi, {name}\")\n",
    "elif(command == \"namaste\"):\n",
    "    name = input('Name: ')\n",
    "    print(f\"namaste, {name}\")\n",
    "else:\n",
    "    print(f\"Good to meet you {command}\")"
   ]
  },
  {
   "cell_type": "markdown",
   "metadata": {},
   "source": [
    "for"
   ]
  },
  {
   "cell_type": "code",
   "execution_count": 4,
   "metadata": {},
   "outputs": [
    {
     "name": "stdout",
     "output_type": "stream",
     "text": [
      "{1, 2, 3, 5, 6}\n"
     ]
    }
   ],
   "source": [
    "arr = [1, 2, 3, 5, 6]\n",
    "print(\"{\" + f'{arr[0]}', end = \"\")\n",
    "for i in range(1, len(arr)):\n",
    "    print(f', {arr[i]}', end=\"\")\n",
    "print(\"}\")"
   ]
  },
  {
   "cell_type": "markdown",
   "metadata": {},
   "source": [
    "Range based for"
   ]
  },
  {
   "cell_type": "code",
   "execution_count": 5,
   "metadata": {},
   "outputs": [
    {
     "name": "stdout",
     "output_type": "stream",
     "text": [
      "1\n",
      "2\n",
      "3\n",
      "5\n",
      "6\n"
     ]
    }
   ],
   "source": [
    "for x in arr:\n",
    "    print(x)"
   ]
  },
  {
   "cell_type": "code",
   "execution_count": 6,
   "metadata": {},
   "outputs": [
    {
     "name": "stdout",
     "output_type": "stream",
     "text": [
      "[1, 2, 3, 5, 6]\n"
     ]
    }
   ],
   "source": [
    "print(arr)"
   ]
  },
  {
   "cell_type": "markdown",
   "metadata": {},
   "source": [
    "while"
   ]
  },
  {
   "cell_type": "code",
   "execution_count": 7,
   "metadata": {},
   "outputs": [
    {
     "name": "stdout",
     "output_type": "stream",
     "text": [
      "Hello\n",
      "Hi, Pratyush\n",
      "namaste, India\n",
      "Good to meet you Soumya\n",
      "Hello\n"
     ]
    }
   ],
   "source": [
    "i=0\n",
    "while(i<5):\n",
    "    i+=1\n",
    "    command = input('Command: ')\n",
    "    if(command == \"Hello\"):\n",
    "        print(\"Hello\")\n",
    "    elif(command == \"Hi\"):\n",
    "        name = input('Name: ')\n",
    "        print(f\"Hi, {name}\")\n",
    "    elif(command == \"namaste\"):\n",
    "        name = input('Name: ')\n",
    "        print(f\"namaste, {name}\")\n",
    "    else:\n",
    "        print(f\"Good to meet you {command}\")"
   ]
  },
  {
   "cell_type": "code",
   "execution_count": 8,
   "metadata": {},
   "outputs": [
    {
     "name": "stdout",
     "output_type": "stream",
     "text": [
      "*            *\n",
      "**          **\n",
      "***        ***\n",
      "****      ****\n",
      "*****    *****\n",
      "******  ******\n",
      "**************\n",
      "******  ******\n",
      "*****    *****\n",
      "****      ****\n",
      "***        ***\n",
      "**          **\n",
      "*            *\n"
     ]
    }
   ],
   "source": [
    "n = int(input('n: '))\n",
    "for i in range(n):\n",
    "    print('*' * (i+1), end=\"\")\n",
    "    print(' ' * (2*(n-i)-2), end=\"\")\n",
    "    print('*' * (i+1))\n",
    "for i in range(1, n):\n",
    "    print('*' * (n-i), end='')\n",
    "    print(' ' * (2*i), end='')\n",
    "    print('*' * (n-i))\n"
   ]
  },
  {
   "cell_type": "code",
   "execution_count": 9,
   "metadata": {},
   "outputs": [
    {
     "name": "stdout",
     "output_type": "stream",
     "text": [
      "*\n",
      "**\n",
      "***\n",
      "****\n",
      "*****\n",
      "******\n",
      "*******\n",
      "********\n",
      "*********\n",
      "**********\n"
     ]
    }
   ],
   "source": [
    "n = int(input('n: '))\n",
    "for i in range(n):\n",
    "    print('*' * (i+1))"
   ]
  },
  {
   "cell_type": "code",
   "execution_count": 10,
   "metadata": {},
   "outputs": [
    {
     "name": "stdout",
     "output_type": "stream",
     "text": [
      "******\n",
      "*****\n",
      "****\n",
      "***\n",
      "**\n",
      "*\n"
     ]
    }
   ],
   "source": [
    "n = int(input('n: '))\n",
    "for i in range(n):\n",
    "    print('*' * (n-i))"
   ]
  }
 ],
 "metadata": {
  "interpreter": {
   "hash": "e7370f93d1d0cde622a1f8e1c04877d8463912d04d973331ad4851f04de6915a"
  },
  "kernelspec": {
   "display_name": "Python 3.10.1 64-bit",
   "language": "python",
   "name": "python3"
  },
  "language_info": {
   "codemirror_mode": {
    "name": "ipython",
    "version": 3
   },
   "file_extension": ".py",
   "mimetype": "text/x-python",
   "name": "python",
   "nbconvert_exporter": "python",
   "pygments_lexer": "ipython3",
   "version": "3.10.1"
  },
  "orig_nbformat": 4
 },
 "nbformat": 4,
 "nbformat_minor": 2
}
